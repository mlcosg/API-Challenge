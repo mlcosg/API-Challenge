{
 "cells": [
  {
   "cell_type": "markdown",
   "metadata": {},
   "source": [
    "# VacationPy"
   ]
  },
  {
   "cell_type": "code",
   "execution_count": 1,
   "metadata": {},
   "outputs": [],
   "source": [
    "##### *** Import Dependencies *** #####\n",
    "\n",
    "import pandas as pd\n",
    "import numpy as np\n",
    "import requests\n",
    "import json\n",
    "import gmaps\n",
    "import os\n",
    "from pprint import pprint\n",
    "\n",
    "##### *** API Configuration *** #####\n",
    "\n",
    "## Import API Key\n",
    "from config import api_key_google\n",
    "\n",
    "## Google Maps API URL\n",
    "url = \"https://maps.googleapis.com/maps/api/place/nearbysearch/json\"\n",
    "    \n",
    "##### *** Initialize Needed Variables *** #####\n",
    "\n",
    "## Input File Location \n",
    "input_data_file = \"city_weather.csv\"\n"
   ]
  },
  {
   "cell_type": "code",
   "execution_count": 2,
   "metadata": {},
   "outputs": [
    {
     "data": {
      "text/plain": [
       "598"
      ]
     },
     "execution_count": 2,
     "metadata": {},
     "output_type": "execute_result"
    }
   ],
   "source": [
    "### Store Part I Results into a Data Frame\n",
    "\n",
    "weather_data = pd.read_csv(input_data_file) \n",
    "weather_data.head()\n",
    "\n",
    "length = len(weather_data)\n",
    "length"
   ]
  },
  {
   "cell_type": "markdown",
   "metadata": {},
   "source": [
    "### Humidity Heatmap"
   ]
  },
  {
   "cell_type": "code",
   "execution_count": 3,
   "metadata": {},
   "outputs": [
    {
     "data": {
      "application/vnd.jupyter.widget-view+json": {
       "model_id": "2cec383d2ca24367a9b146c6da2e3ae9",
       "version_major": 2,
       "version_minor": 0
      },
      "text/plain": [
       "Figure(layout=FigureLayout(height='420px'))"
      ]
     },
     "metadata": {},
     "output_type": "display_data"
    }
   ],
   "source": [
    "### Configure gmaps w/ API Key\n",
    "gmaps.configure(api_key=api_key_google)\n",
    "\n",
    "### Store City Locations & Humidity (our \"heat\" value) as Floats\n",
    "locations = weather_data[['Lat', 'Long']].astype(float)\n",
    "weights = weather_data['Humidity'].astype(float)\n",
    "weights_max = weather_data['Humidity'].max()\n",
    "\n",
    "### Create & Map Humidity \"Heatmap\" layer\n",
    "fig = gmaps.figure()\n",
    "humidity_layer = gmaps.heatmap_layer(locations, weights=weights, \n",
    "                                 dissipating=False, max_intensity=weights_max,\n",
    "                                 point_radius = 1)\n",
    "fig.add_layer(humidity_layer)\n",
    "fig\n"
   ]
  },
  {
   "cell_type": "markdown",
   "metadata": {},
   "source": [
    "### Create New Dataframe Fitting Personalized Weather Criteria"
   ]
  },
  {
   "cell_type": "code",
   "execution_count": 4,
   "metadata": {},
   "outputs": [
    {
     "data": {
      "text/html": [
       "<div>\n",
       "<style scoped>\n",
       "    .dataframe tbody tr th:only-of-type {\n",
       "        vertical-align: middle;\n",
       "    }\n",
       "\n",
       "    .dataframe tbody tr th {\n",
       "        vertical-align: top;\n",
       "    }\n",
       "\n",
       "    .dataframe thead th {\n",
       "        text-align: right;\n",
       "    }\n",
       "</style>\n",
       "<table border=\"1\" class=\"dataframe\">\n",
       "  <thead>\n",
       "    <tr style=\"text-align: right;\">\n",
       "      <th></th>\n",
       "      <th>Date</th>\n",
       "      <th>City_ID</th>\n",
       "      <th>City_Name</th>\n",
       "      <th>Country</th>\n",
       "      <th>Lat</th>\n",
       "      <th>Long</th>\n",
       "      <th>Max_Temp</th>\n",
       "      <th>Cloudiness</th>\n",
       "      <th>Humidity</th>\n",
       "      <th>Wind_Speed</th>\n",
       "    </tr>\n",
       "  </thead>\n",
       "  <tbody>\n",
       "    <tr>\n",
       "      <td>85</td>\n",
       "      <td>2020-02-25</td>\n",
       "      <td>1253237.0</td>\n",
       "      <td>Verāval</td>\n",
       "      <td>IN</td>\n",
       "      <td>20.90</td>\n",
       "      <td>70.37</td>\n",
       "      <td>90.7</td>\n",
       "      <td>0.0</td>\n",
       "      <td>15.0</td>\n",
       "      <td>4.8</td>\n",
       "    </tr>\n",
       "    <tr>\n",
       "      <td>157</td>\n",
       "      <td>2020-02-25</td>\n",
       "      <td>1274304.0</td>\n",
       "      <td>Chhindwāra</td>\n",
       "      <td>IN</td>\n",
       "      <td>22.07</td>\n",
       "      <td>78.93</td>\n",
       "      <td>78.6</td>\n",
       "      <td>15.0</td>\n",
       "      <td>17.0</td>\n",
       "      <td>3.4</td>\n",
       "    </tr>\n",
       "    <tr>\n",
       "      <td>206</td>\n",
       "      <td>2020-02-25</td>\n",
       "      <td>72181.0</td>\n",
       "      <td>Marzuq</td>\n",
       "      <td>YE</td>\n",
       "      <td>14.40</td>\n",
       "      <td>46.47</td>\n",
       "      <td>78.5</td>\n",
       "      <td>0.0</td>\n",
       "      <td>14.0</td>\n",
       "      <td>1.0</td>\n",
       "    </tr>\n",
       "    <tr>\n",
       "      <td>212</td>\n",
       "      <td>2020-02-25</td>\n",
       "      <td>5301388.0</td>\n",
       "      <td>Lake Havasu City</td>\n",
       "      <td>US</td>\n",
       "      <td>34.48</td>\n",
       "      <td>-114.32</td>\n",
       "      <td>57.2</td>\n",
       "      <td>1.0</td>\n",
       "      <td>19.0</td>\n",
       "      <td>2.1</td>\n",
       "    </tr>\n",
       "    <tr>\n",
       "      <td>310</td>\n",
       "      <td>2020-02-25</td>\n",
       "      <td>1274040.0</td>\n",
       "      <td>Chittaurgarh</td>\n",
       "      <td>IN</td>\n",
       "      <td>24.88</td>\n",
       "      <td>74.63</td>\n",
       "      <td>83.6</td>\n",
       "      <td>0.0</td>\n",
       "      <td>17.0</td>\n",
       "      <td>3.6</td>\n",
       "    </tr>\n",
       "    <tr>\n",
       "      <td>460</td>\n",
       "      <td>2020-02-25</td>\n",
       "      <td>1266397.0</td>\n",
       "      <td>Kodīnar</td>\n",
       "      <td>IN</td>\n",
       "      <td>20.79</td>\n",
       "      <td>70.70</td>\n",
       "      <td>90.7</td>\n",
       "      <td>0.0</td>\n",
       "      <td>15.0</td>\n",
       "      <td>4.8</td>\n",
       "    </tr>\n",
       "    <tr>\n",
       "      <td>462</td>\n",
       "      <td>2020-02-25</td>\n",
       "      <td>104515.0</td>\n",
       "      <td>Makkah al Mukarramah</td>\n",
       "      <td>SA</td>\n",
       "      <td>21.43</td>\n",
       "      <td>39.83</td>\n",
       "      <td>65.6</td>\n",
       "      <td>0.0</td>\n",
       "      <td>15.0</td>\n",
       "      <td>2.9</td>\n",
       "    </tr>\n",
       "    <tr>\n",
       "      <td>473</td>\n",
       "      <td>2020-02-25</td>\n",
       "      <td>2447513.0</td>\n",
       "      <td>Arlit</td>\n",
       "      <td>NE</td>\n",
       "      <td>18.74</td>\n",
       "      <td>7.39</td>\n",
       "      <td>54.3</td>\n",
       "      <td>1.0</td>\n",
       "      <td>17.0</td>\n",
       "      <td>1.2</td>\n",
       "    </tr>\n",
       "    <tr>\n",
       "      <td>485</td>\n",
       "      <td>2020-02-25</td>\n",
       "      <td>2449893.0</td>\n",
       "      <td>Tessalit</td>\n",
       "      <td>ML</td>\n",
       "      <td>20.20</td>\n",
       "      <td>1.01</td>\n",
       "      <td>61.1</td>\n",
       "      <td>0.0</td>\n",
       "      <td>14.0</td>\n",
       "      <td>4.4</td>\n",
       "    </tr>\n",
       "    <tr>\n",
       "      <td>519</td>\n",
       "      <td>2020-02-25</td>\n",
       "      <td>2450173.0</td>\n",
       "      <td>Taoudenni</td>\n",
       "      <td>ML</td>\n",
       "      <td>22.68</td>\n",
       "      <td>-3.98</td>\n",
       "      <td>58.7</td>\n",
       "      <td>0.0</td>\n",
       "      <td>18.0</td>\n",
       "      <td>2.9</td>\n",
       "    </tr>\n",
       "  </tbody>\n",
       "</table>\n",
       "</div>"
      ],
      "text/plain": [
       "           Date    City_ID             City_Name Country    Lat    Long  \\\n",
       "85   2020-02-25  1253237.0               Verāval      IN  20.90   70.37   \n",
       "157  2020-02-25  1274304.0            Chhindwāra      IN  22.07   78.93   \n",
       "206  2020-02-25    72181.0                Marzuq      YE  14.40   46.47   \n",
       "212  2020-02-25  5301388.0      Lake Havasu City      US  34.48 -114.32   \n",
       "310  2020-02-25  1274040.0          Chittaurgarh      IN  24.88   74.63   \n",
       "460  2020-02-25  1266397.0               Kodīnar      IN  20.79   70.70   \n",
       "462  2020-02-25   104515.0  Makkah al Mukarramah      SA  21.43   39.83   \n",
       "473  2020-02-25  2447513.0                 Arlit      NE  18.74    7.39   \n",
       "485  2020-02-25  2449893.0              Tessalit      ML  20.20    1.01   \n",
       "519  2020-02-25  2450173.0             Taoudenni      ML  22.68   -3.98   \n",
       "\n",
       "     Max_Temp  Cloudiness  Humidity  Wind_Speed  \n",
       "85       90.7         0.0      15.0         4.8  \n",
       "157      78.6        15.0      17.0         3.4  \n",
       "206      78.5         0.0      14.0         1.0  \n",
       "212      57.2         1.0      19.0         2.1  \n",
       "310      83.6         0.0      17.0         3.6  \n",
       "460      90.7         0.0      15.0         4.8  \n",
       "462      65.6         0.0      15.0         2.9  \n",
       "473      54.3         1.0      17.0         1.2  \n",
       "485      61.1         0.0      14.0         4.4  \n",
       "519      58.7         0.0      18.0         2.9  "
      ]
     },
     "execution_count": 4,
     "metadata": {},
     "output_type": "execute_result"
    }
   ],
   "source": [
    "### Narrow the Number of Cities to Include Your Ideal Conditions\n",
    "weather_ideal = weather_data[(weather_data.Max_Temp <= 93.0) &\n",
    "                             (weather_data.Cloudiness <= 15.0) &\n",
    "                             (weather_data.Humidity <= 20.0) &\n",
    "                             (weather_data.Wind_Speed <= 5.0)]\n",
    "\n",
    "weather_ideal_length = len(weather_ideal) # there are 8 cities within ideal conditions\n",
    "\n",
    "### Drop NULL Values\n",
    "weather_ideal = weather_ideal.dropna() # there were no NULL values to drop, still 8 cities\n",
    "\n",
    "##### *** Save Dataframe as .csv *** #####\n",
    "weather_ideal.to_csv('weather_ideal.csv', encoding='utf-8', index=False) # Note to avoid issues, use encoding=\"utf-8\"\n",
    "weather_ideal\n"
   ]
  },
  {
   "cell_type": "markdown",
   "metadata": {},
   "source": [
    "### Hotel Map\n",
    "* Store into variable named `hotel_df`.\n",
    "* Add a \"Hotel Name\" column to the DataFrame.\n",
    "* Set parameters to search for hotels with 5000 meters.\n",
    "* Hit the Google Places API for each city's coordinates.\n",
    "* Store the first Hotel result into the DataFrame.\n",
    "* Plot markers on top of the heatmap."
   ]
  },
  {
   "cell_type": "markdown",
   "metadata": {},
   "source": [
    "### Perform API Calls to Generate Hotels Dataframe"
   ]
  },
  {
   "cell_type": "code",
   "execution_count": 5,
   "metadata": {},
   "outputs": [
    {
     "name": "stderr",
     "output_type": "stream",
     "text": [
      "C:\\Users\\MC\\Anaconda3\\lib\\site-packages\\ipykernel_launcher.py:3: SettingWithCopyWarning: \n",
      "A value is trying to be set on a copy of a slice from a DataFrame.\n",
      "Try using .loc[row_indexer,col_indexer] = value instead\n",
      "\n",
      "See the caveats in the documentation: http://pandas.pydata.org/pandas-docs/stable/user_guide/indexing.html#returning-a-view-versus-a-copy\n",
      "  This is separate from the ipykernel package so we can avoid doing imports until\n",
      "C:\\Users\\MC\\Anaconda3\\lib\\site-packages\\pandas\\core\\indexing.py:494: SettingWithCopyWarning: \n",
      "A value is trying to be set on a copy of a slice from a DataFrame.\n",
      "Try using .loc[row_indexer,col_indexer] = value instead\n",
      "\n",
      "See the caveats in the documentation: http://pandas.pydata.org/pandas-docs/stable/user_guide/indexing.html#returning-a-view-versus-a-copy\n",
      "  self.obj[item] = s\n"
     ]
    },
    {
     "name": "stdout",
     "output_type": "stream",
     "text": [
      "not good\n",
      "not good\n",
      "not good\n",
      "                City_Name Country    Lat    Long  \\\n",
      "85                Verāval      IN  20.90   70.37   \n",
      "157            Chhindwāra      IN  22.07   78.93   \n",
      "206                Marzuq      YE  14.40   46.47   \n",
      "212      Lake Havasu City      US  34.48 -114.32   \n",
      "310          Chittaurgarh      IN  24.88   74.63   \n",
      "460               Kodīnar      IN  20.79   70.70   \n",
      "462  Makkah al Mukarramah      SA  21.43   39.83   \n",
      "473                 Arlit      NE  18.74    7.39   \n",
      "485              Tessalit      ML  20.20    1.01   \n",
      "519             Taoudenni      ML  22.68   -3.98   \n",
      "\n",
      "                        Hotel Name  \n",
      "85               Lords Inn Somnath  \n",
      "157         STARiHOTELS Chhindwara  \n",
      "206                                 \n",
      "212                     Heat Hotel  \n",
      "310  Palette - The Elegance Resort  \n",
      "460    Hotel Krishna Park, Kodinar  \n",
      "462        Al Shohada Hotel MAKKAH  \n",
      "473           Hôtel Telwa Bungalow  \n",
      "485                                 \n",
      "519                                 \n"
     ]
    }
   ],
   "source": [
    "##### *** Initialize Variable Objects Needed for API Calls *** #####\n",
    "hotel_df = weather_ideal[[\"City_Name\",\"Country\",\"Lat\", \"Long\"]]\n",
    "hotel_df[\"Hotel Name\"] = \"\"\n",
    "\n",
    "## Set Up a Parameters Dictionary\n",
    "\n",
    "parameters = {\n",
    "#     \"location\": ideal_locations,\n",
    "    \"radius\": 5000,\n",
    "    \"type\": \"lodging\",\n",
    "#     \"fields\": google_fields,\n",
    "    \"key\": api_key_google}\n",
    "\n",
    "##### *** Perform API Calls *** #####\n",
    "\n",
    "for index, row in hotel_df.iterrows():\n",
    "    Latitude = row[\"Lat\"]\n",
    "    Longitude = row[\"Long\"]\n",
    "    parameters[\"location\"] = f\"{Latitude},{Longitude}\"\n",
    "    \n",
    "    ## API Request\n",
    "    hotels_data = requests.get(url, params=parameters)\n",
    "    google_response = hotels_data.json()\n",
    "    try:\n",
    "        name = google_response[\"results\"][0]['name']\n",
    "        hotel_df.loc[index,\"Hotel Name\"] = name\n",
    "    except(KeyError, IndexError):\n",
    "        print(\"not good\")\n",
    "\n",
    "print(hotel_df)\n",
    "    \n"
   ]
  },
  {
   "cell_type": "code",
   "execution_count": 6,
   "metadata": {},
   "outputs": [],
   "source": [
    "\n",
    "hotel_df=hotel_df.rename(columns={\"City_Name\": \"City\"})\n",
    "\n",
    "# NOTE: Do not change any of the code in this cell\n",
    "# Using the template add the hotel marks to the heatmap\n",
    "info_box_template = \"\"\"\n",
    "<dl>\n",
    "<dt>Name</dt><dd>{Hotel Name}</dd>\n",
    "<dt>City</dt><dd>{City}</dd>\n",
    "<dt>Country</dt><dd>{Country}</dd>\n",
    "</dl>\n",
    "\"\"\"\n",
    "# Store the DataFrame Row\n",
    "# NOTE: be sure to update with your DataFrame name\n",
    "hotel_info = [info_box_template.format(**row) for index, row in hotel_df.iterrows()]\n",
    "locations = hotel_df[[\"Lat\", \"Long\"]]\n"
   ]
  },
  {
   "cell_type": "code",
   "execution_count": 7,
   "metadata": {},
   "outputs": [
    {
     "data": {
      "application/vnd.jupyter.widget-view+json": {
       "model_id": "2cec383d2ca24367a9b146c6da2e3ae9",
       "version_major": 2,
       "version_minor": 0
      },
      "text/plain": [
       "Figure(layout=FigureLayout(height='420px'))"
      ]
     },
     "metadata": {},
     "output_type": "display_data"
    }
   ],
   "source": [
    "# Add marker layer ontop of heat map\n",
    "\n",
    "\n",
    "### Create & Map Humidity \"Heatmap\" layer\n",
    "marker_layer = gmaps.marker_layer(locations, info_box_content = hotel_info)\n",
    "                              \n",
    "fig.add_layer(marker_layer)\n",
    "fig\n",
    "\n"
   ]
  },
  {
   "cell_type": "code",
   "execution_count": null,
   "metadata": {},
   "outputs": [],
   "source": []
  }
 ],
 "metadata": {
  "kernelspec": {
   "display_name": "Python 3",
   "language": "python",
   "name": "python3"
  },
  "language_info": {
   "codemirror_mode": {
    "name": "ipython",
    "version": 3
   },
   "file_extension": ".py",
   "mimetype": "text/x-python",
   "name": "python",
   "nbconvert_exporter": "python",
   "pygments_lexer": "ipython3",
   "version": "3.7.4"
  },
  "latex_envs": {
   "LaTeX_envs_menu_present": true,
   "autoclose": false,
   "autocomplete": true,
   "bibliofile": "biblio.bib",
   "cite_by": "apalike",
   "current_citInitial": 1,
   "eqLabelWithNumbers": true,
   "eqNumInitial": 1,
   "hotkeys": {
    "equation": "Ctrl-E",
    "itemize": "Ctrl-I"
   },
   "labels_anchors": false,
   "latex_user_defs": false,
   "report_style_numbering": false,
   "user_envs_cfg": false
  }
 },
 "nbformat": 4,
 "nbformat_minor": 2
}
